{
 "cells": [
  {
   "cell_type": "code",
   "execution_count": 6,
   "metadata": {},
   "outputs": [],
   "source": [
    "\n",
    "from sklearn.preprocessing import StandardScaler\n",
    "import matplotlib.pyplot as plt \n",
    "import numpy as np \n",
    "import os \n",
    "import pandas as pd \n",
    "import seaborn as sns\n",
    "from sklearn.model_selection import train_test_split\n",
    "from sklearn.linear_model import LogisticRegression, RidgeClassifier\n",
    "from sklearn.metrics import accuracy_score,classification_report,confusion_matrix,mean_squared_error\n",
    "import warnings\n",
    "warnings.filterwarnings('ignore')\n",
    "%matplotlib inline"
   ]
  },
  {
   "cell_type": "code",
   "execution_count": 7,
   "metadata": {},
   "outputs": [
    {
     "name": "stdout",
     "output_type": "stream",
     "text": [
      "There are 30000 rows and 25 columns\n"
     ]
    }
   ],
   "source": [
    "df = pd.read_csv('credit.csv')\n",
    "nRow, nCol = df.shape\n",
    "print(f'There are {nRow} rows and {nCol} columns')"
   ]
  },
  {
   "cell_type": "code",
   "execution_count": 9,
   "metadata": {},
   "outputs": [],
   "source": [
    "df.rename(columns={'default.payment.next.month':'def_pay'}, inplace=True)\n"
   ]
  },
  {
   "cell_type": "code",
   "execution_count": 11,
   "metadata": {},
   "outputs": [
    {
     "name": "stdout",
     "output_type": "stream",
     "text": [
      "              precision    recall  f1-score   support\n",
      "\n",
      "           0       1.00      0.78      0.88      5998\n",
      "           1       0.00      0.00      0.00         2\n",
      "\n",
      "    accuracy                           0.78      6000\n",
      "   macro avg       0.50      0.39      0.44      6000\n",
      "weighted avg       1.00      0.78      0.88      6000\n",
      "\n",
      "[[4681 1317]\n",
      " [   2    0]]\n",
      "\n",
      "Accuracy Score for model1:  0.7801666666666667\n"
     ]
    }
   ],
   "source": [
    "df_X = df.drop(['def_pay'], axis=1)\n",
    "df_y = df.def_pay\n",
    "X_train, X_test, y_train, y_test = train_test_split(df_X, df_y, test_size=0.2, random_state=10)\n",
    "model1 = LogisticRegression()\n",
    "model1.fit(X_train, y_train)\n",
    "y_pred = model1.predict(X_test)\n",
    "print(classification_report(y_pred, y_test))\n",
    "print(confusion_matrix(y_pred, y_test))\n",
    "print('\\nAccuracy Score for model1: ', accuracy_score(y_pred,y_test))"
   ]
  },
  {
   "cell_type": "code",
   "execution_count": 12,
   "metadata": {},
   "outputs": [
    {
     "name": "stdout",
     "output_type": "stream",
     "text": [
      "              precision    recall  f1-score   support\n",
      "\n",
      "           0       0.99      0.79      0.88      8694\n",
      "           1       0.11      0.70      0.18       306\n",
      "\n",
      "    accuracy                           0.79      9000\n",
      "   macro avg       0.55      0.75      0.53      9000\n",
      "weighted avg       0.96      0.79      0.86      9000\n",
      "\n",
      "[[6910 1784]\n",
      " [  93  213]]\n",
      "\n",
      "Test Accuracy Score for model5:  0.7914444444444444\n",
      "\n",
      "Train Accuracy Score for model5:  0.7915238095238095\n"
     ]
    }
   ],
   "source": [
    "df_X = df[['SEX','MARRIAGE','AGE','BILL_AMT1','EDUCATION','PAY_1']]\n",
    "df_y = df.def_pay\n",
    "X_train, X_test, y_train, y_test = train_test_split(df_X, df_y, test_size=0.3, random_state=20)\n",
    "model5 = RidgeClassifier()\n",
    "model5.fit(X_train, y_train)\n",
    "y_pred = model5.predict(X_test)\n",
    "y_train_pred = model5.predict(X_train)\n",
    "print(classification_report(y_pred, y_test))\n",
    "print(confusion_matrix(y_pred, y_test))\n",
    "print('\\nTest Accuracy Score for model5: ', accuracy_score(y_pred,y_test))\n",
    "print('\\nTrain Accuracy Score for model5: ', accuracy_score(y_train_pred,y_train))"
   ]
  }
 ],
 "metadata": {
  "kernelspec": {
   "display_name": "Python 3",
   "language": "python",
   "name": "python3"
  },
  "language_info": {
   "codemirror_mode": {
    "name": "ipython",
    "version": 3
   },
   "file_extension": ".py",
   "mimetype": "text/x-python",
   "name": "python",
   "nbconvert_exporter": "python",
   "pygments_lexer": "ipython3",
   "version": "3.8.0"
  }
 },
 "nbformat": 4,
 "nbformat_minor": 2
}
